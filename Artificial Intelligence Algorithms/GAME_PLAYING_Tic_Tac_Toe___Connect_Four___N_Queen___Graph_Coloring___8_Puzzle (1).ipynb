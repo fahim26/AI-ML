{
  "nbformat": 4,
  "nbformat_minor": 0,
  "metadata": {
    "colab": {
      "provenance": []
    },
    "kernelspec": {
      "name": "python3",
      "display_name": "Python 3"
    },
    "language_info": {
      "name": "python"
    }
  },
  "cells": [
    {
      "cell_type": "markdown",
      "source": [
        "**Name: MD Fahimul Islam**\n",
        "\n",
        "**Reg No: 2017331026**"
      ],
      "metadata": {
        "id": "Sx3KfdENqMID"
      }
    },
    {
      "cell_type": "markdown",
      "source": [
        "# GAME PLAYING: Tic Tac Toe | Connect Four | N-Queen | Graph Coloring | 8 Puzzle**"
      ],
      "metadata": {
        "id": "7tVV-DpzlQxe"
      }
    },
    {
      "cell_type": "code",
      "source": [
        "from collections import namedtuple, Counter, defaultdict\n",
        "import random\n",
        "import math\n",
        "import functools \n",
        "cache = functools.lru_cache(10**6)"
      ],
      "metadata": {
        "id": "_sWOtpd8v-Gc"
      },
      "execution_count": null,
      "outputs": []
    },
    {
      "cell_type": "markdown",
      "source": [
        "class Game is similar to a problem in Adhversarial search problem..This game has :\n",
        "\n",
        "1) actions (Return a collection of the allowable moves from this state)\n",
        "\n",
        "2) result (Return the state that results from making a move from a state)\n",
        "\n",
        "3) is_terminal (Return True if this is a final state for the game)\n",
        "\n",
        "4) utility function (Return the value of this final state to player) functions.\n"
      ],
      "metadata": {
        "id": "ATt8zFaPlvwP"
      }
    },
    {
      "cell_type": "code",
      "source": [
        "class Game:\n",
        "  def actions(self, state):\n",
        "    raise NotImplementedError\n",
        "\n",
        "  def result(self, state, move):\n",
        "    raise NotImplementedError\n",
        "\n",
        "  def is_terminal(self, state):\n",
        "    return not self.actions(state)\n",
        "  \n",
        "  def utility(self, state, player):\n",
        "    raise NotImplementedError\n",
        "        \n",
        "\n",
        "def play_game(game, strategies: dict, verbose=False):\n",
        "  # Play a turn-taking game. \n",
        "  # strategies is a {player_name: function} dict, where function(state, game) is used to get the player's move.\"\"\"\n",
        "  state = game.initial\n",
        "  while not game.is_terminal(state):\n",
        "    player = state.to_move\n",
        "    move = strategies[player](game, state)\n",
        "    state = game.result(state, move)\n",
        "    if verbose: \n",
        "        print('Player', player, 'move:', move)\n",
        "        print(\"State: \")\n",
        "        print(state)\n",
        "  return state"
      ],
      "metadata": {
        "id": "J8KM2Q3ywDJt"
      },
      "execution_count": null,
      "outputs": []
    },
    {
      "cell_type": "markdown",
      "source": [
        "**MINIMAX:**\n",
        "\n",
        "**The optimal strategy can be determined from the minimax value of each node, which we write as MINIMAX(n). The minimax value of a node is the utility value (for MAX) of being in the corresponding state, assuming that both players play optimally from that state to the end of the game. Obviously, the minimax value of a terminal state is just its utility. Furthermore, given a choice, MAX prefers to move to a state of maximum value, whereas MIN prefers a state of minimum value**\n",
        "\n"
      ],
      "metadata": {
        "id": "v28MftOFl0ZJ"
      }
    },
    {
      "cell_type": "code",
      "source": [
        "\n",
        "def minimax_search(game, state):\n",
        "  player = state.to_move  #state.to move outputs that player who's turn is now\n",
        "\n",
        "  def max_value(state):\n",
        "    if game.is_terminal(state):\n",
        "      return game.utility(state, player), None\n",
        "    value, move = -infinity, None\n",
        "    for a in game.actions(state):\n",
        "      v2, _ = min_value(game.result(state, a))\n",
        "      if v2 > value:\n",
        "        value, move = v2, a\n",
        "    return value, move\n",
        "\n",
        "  def min_value(state):\n",
        "    if game.is_terminal(state):\n",
        "      return game.utility(state, player), None\n",
        "    value, move = +infinity, None\n",
        "    for a in game.actions(state):\n",
        "      v2, _ = max_value(game.result(state, a))\n",
        "      if v2 < value:\n",
        "          value, move = v2, a\n",
        "    return value, move\n",
        "\n",
        "  return max_value(state)\n",
        "\n",
        "infinity = math.inf\n",
        "\n"
      ],
      "metadata": {
        "id": "tbo1FPqX0Qvl"
      },
      "execution_count": null,
      "outputs": []
    },
    {
      "cell_type": "markdown",
      "source": [
        "**ALPHA–BETA PRUNING:**\n",
        "\n",
        "**The problem with minimax search is that the number of game states it has to examine is exponential in the depth of the tree. When we apply ALPHA–BETA PRUNING  to a standard minimax tree, it returns the same move as minimax would, but prunes away branches that cannot possibly influence the final decision**"
      ],
      "metadata": {
        "id": "AoeS8EYTl3zG"
      }
    },
    {
      "cell_type": "code",
      "source": [
        "def alphabeta_search(game, state):\n",
        "  player = state.to_move\n",
        "\n",
        "  def max_value(state, alpha, beta):\n",
        "    if game.is_terminal(state):\n",
        "      return game.utility(state, player), None\n",
        "    value, move = -infinity, None\n",
        "    for a in game.actions(state):\n",
        "      v2, _ = min_value(game.result(state, a), alpha, beta)\n",
        "      if v2 > value:\n",
        "          value, move = v2, a\n",
        "          alpha = max(alpha, value)\n",
        "      if value >= beta:\n",
        "          return value, move\n",
        "    return value, move\n",
        "\n",
        "  def min_value(state, alpha, beta):\n",
        "    if game.is_terminal(state):\n",
        "      return game.utility(state, player), None\n",
        "    value, move = +infinity, None\n",
        "    for a in game.actions(state):\n",
        "      v2, _ = max_value(game.result(state, a), alpha, beta)\n",
        "      if v2 < value:\n",
        "        value, move = v2, a\n",
        "        beta = min(beta, value)\n",
        "      if value <= alpha:\n",
        "        return value, move\n",
        "    return value, move\n",
        "\n",
        "  return max_value(state, -infinity, +infinity)"
      ],
      "metadata": {
        "id": "E5RrqcvoKgB4"
      },
      "execution_count": null,
      "outputs": []
    },
    {
      "cell_type": "markdown",
      "source": [
        "**Tic Tac Toe:**"
      ],
      "metadata": {
        "id": "H2B1oRMamYS-"
      }
    },
    {
      "cell_type": "code",
      "execution_count": null,
      "metadata": {
        "id": "jAHnLpewvdmt"
      },
      "outputs": [],
      "source": [
        "\n",
        "class TicTacToe(Game):\n",
        "\n",
        "  def __init__(self, height=3, width=3, k=3):\n",
        "    self.k = k # k in a row\n",
        "    self.squares = {(x, y) for x in range(width) for y in range(height)}\n",
        "    self.initial = Board(height=height, width=width, to_move='X', utility=0)\n",
        "\n",
        "  def actions(self, board):\n",
        "    # Legal moves\n",
        "    return self.squares - set(board)\n",
        "\n",
        "  def result(self, board, square):\n",
        "    \"\"\"Place a marker for current player on square.\"\"\"\n",
        "    player = board.to_move\n",
        "    board = board.new({square: player}, to_move=('O' if player == 'X' else 'X'))\n",
        "    win = k_in_row(board, player, square, self.k)\n",
        "    board.utility = (0 if not win else +1 if player == 'X' else -1)\n",
        "    return board\n",
        "\n",
        "  def utility(self, board, player):\n",
        "    \"\"\"Return the value to player; 1 for win, -1 for loss, 0 otherwise.\"\"\"\n",
        "    return board.utility if player == 'X' else -board.utility\n",
        "\n",
        "  def is_terminal(self, board):\n",
        "    \"\"\"A board is a terminal state if it is won or there are no empty squares.\"\"\"\n",
        "    return board.utility != 0 or len(self.squares) == len(board)\n",
        "\n",
        "  def display(self, board): print(board)     \n",
        "\n",
        "\n",
        "def k_in_row(board, player, square, k):\n",
        "  \"\"\"True if player has k pieces in a line through square.\"\"\"\n",
        "  def in_row(x, y, dx, dy): return 0 if board[x, y] != player else 1 + in_row(x + dx, y + dy, dx, dy)\n",
        "  return any(in_row(*square, dx, dy) + in_row(*square, -dx, -dy) - 1 >= k\n",
        "              for (dx, dy) in ((0, 1), (1, 0), (1, 1), (1, -1)))"
      ]
    },
    {
      "cell_type": "code",
      "source": [
        "class Board(defaultdict):\n",
        "  empty = '.'\n",
        "  off = '#'\n",
        "  \n",
        "  def __init__(self, width=8, height=8, to_move=None, **kwds):\n",
        "    self.__dict__.update(width=width, height=height, to_move=to_move, **kwds)\n",
        "      \n",
        "  def new(self, changes: dict, **kwds) -> 'Board':\n",
        "    board = Board(width=self.width, height=self.height, **kwds)\n",
        "    board.update(self)\n",
        "    board.update(changes)\n",
        "    return board\n",
        "\n",
        "  def __missing__(self, loc):\n",
        "    x, y = loc\n",
        "    if 0 <= x < self.width and 0 <= y < self.height:\n",
        "        return self.empty\n",
        "    else:\n",
        "        return self.off\n",
        "          \n",
        "  def __hash__(self): \n",
        "    return hash(tuple(sorted(self.items()))) + hash(self.to_move)\n",
        "  \n",
        "  def __repr__(self):\n",
        "      def row(y): return ' '.join(self[x, y] for x in range(self.width))\n",
        "      return '\\n'.join(map(row, range(self.height))) +  '\\n'"
      ],
      "metadata": {
        "id": "P337KQnZwV0K"
      },
      "execution_count": null,
      "outputs": []
    },
    {
      "cell_type": "code",
      "source": [
        "def random_player(game, state): return random.choice(list(game.actions(state)))\n",
        "\n",
        "def player(search_algorithm):\n",
        "    \"\"\"A game player who uses the specified search algorithm\"\"\"\n",
        "    return lambda game, state: search_algorithm(game, state)[1]"
      ],
      "metadata": {
        "id": "mXnT3Oe8wX__"
      },
      "execution_count": null,
      "outputs": []
    },
    {
      "cell_type": "markdown",
      "source": [
        "**Optimal Player(X) VS Random Player(0):**\n",
        "\n",
        "**X is MAX player who is a alphabeta player who always takes optimal move.0 is MIN player who is a random player who moves randomly.**\n",
        "\n",
        "\n",
        "**The alpha-beta player will never lose (means utility value of X is 1) , but sometimes the random player can achieve a draw (means both's utility value is 0.**\n",
        "\n",
        "***So Utility of X is:***"
      ],
      "metadata": {
        "id": "ClRbN3mbmuXx"
      }
    },
    {
      "cell_type": "code",
      "source": [
        "a = play_game(TicTacToe(), dict(X=player(alphabeta_search), O=random_player), verbose=True)\n",
        "print(\"X is MAX player who is a alphabeta player who always takes optimal move\")\n",
        "print(\"0 is MIN player who is a random player who moves randomly\")\n",
        "print(\"Utility Value of player X: \",a.utility)"
      ],
      "metadata": {
        "colab": {
          "base_uri": "https://localhost:8080/"
        },
        "id": "ze01v5EHmy1D",
        "outputId": "66ea3d8b-c0d2-4966-820f-cf4909ba5e26"
      },
      "execution_count": null,
      "outputs": [
        {
          "output_type": "stream",
          "name": "stdout",
          "text": [
            "Player X move: (0, 1)\n",
            "State: \n",
            ". . .\n",
            "X . .\n",
            ". . .\n",
            "\n",
            "Player O move: (1, 0)\n",
            "State: \n",
            ". O .\n",
            "X . .\n",
            ". . .\n",
            "\n",
            "Player X move: (0, 0)\n",
            "State: \n",
            "X O .\n",
            "X . .\n",
            ". . .\n",
            "\n",
            "Player O move: (2, 0)\n",
            "State: \n",
            "X O O\n",
            "X . .\n",
            ". . .\n",
            "\n",
            "Player X move: (1, 2)\n",
            "State: \n",
            "X O O\n",
            "X . .\n",
            ". X .\n",
            "\n",
            "Player O move: (0, 2)\n",
            "State: \n",
            "X O O\n",
            "X . .\n",
            "O X .\n",
            "\n",
            "Player X move: (1, 1)\n",
            "State: \n",
            "X O O\n",
            "X X .\n",
            "O X .\n",
            "\n",
            "Player O move: (2, 2)\n",
            "State: \n",
            "X O O\n",
            "X X .\n",
            "O X O\n",
            "\n",
            "Player X move: (2, 1)\n",
            "State: \n",
            "X O O\n",
            "X X X\n",
            "O X O\n",
            "\n",
            "X is MAX player who is a alphabeta player who always takes optimal move\n",
            "0 is MIN player who is a random player who moves randomly\n",
            "Utility Value of player X:  1\n"
          ]
        }
      ]
    },
    {
      "cell_type": "markdown",
      "source": [
        "**Optimal Player(X) VS Optimal Player(0):**\n",
        "\n",
        "**X is a MAX player who is a alphabeta player who always takes optimal move.0 is MIN player who is a minimax player who always takes optimal move.**\n",
        "\n",
        "\n",
        "**When two optimal (alpha-beta or minimax) players compete, it will always be a draw:**\n",
        "\n",
        "***So Utility of X is:***"
      ],
      "metadata": {
        "id": "kE0-BV4Pm1Fl"
      }
    },
    {
      "cell_type": "code",
      "source": [
        "a = play_game(TicTacToe(), dict(X=player(alphabeta_search), O=player(minimax_search)), verbose=True)\n",
        "print(\"X is MAX player who is a alphabeta player who always takes optimal move\")\n",
        "print(\"0 is MIN player who is a minimax player who always takes optimal move\")\n",
        "print(\"Utility Value of player X: \",a.utility)"
      ],
      "metadata": {
        "colab": {
          "base_uri": "https://localhost:8080/"
        },
        "id": "kJs7IJ4Im2F5",
        "outputId": "e51a376b-cbc8-4aab-f479-e51991ca3127"
      },
      "execution_count": null,
      "outputs": [
        {
          "output_type": "stream",
          "name": "stdout",
          "text": [
            "Player X move: (0, 1)\n",
            "State: \n",
            ". . .\n",
            "X . .\n",
            ". . .\n",
            "\n",
            "Player O move: (0, 0)\n",
            "State: \n",
            "O . .\n",
            "X . .\n",
            ". . .\n",
            "\n",
            "Player X move: (2, 0)\n",
            "State: \n",
            "O . X\n",
            "X . .\n",
            ". . .\n",
            "\n",
            "Player O move: (2, 1)\n",
            "State: \n",
            "O . X\n",
            "X . O\n",
            ". . .\n",
            "\n",
            "Player X move: (1, 2)\n",
            "State: \n",
            "O . X\n",
            "X . O\n",
            ". X .\n",
            "\n",
            "Player O move: (0, 2)\n",
            "State: \n",
            "O . X\n",
            "X . O\n",
            "O X .\n",
            "\n",
            "Player X move: (1, 0)\n",
            "State: \n",
            "O X X\n",
            "X . O\n",
            "O X .\n",
            "\n",
            "Player O move: (1, 1)\n",
            "State: \n",
            "O X X\n",
            "X O O\n",
            "O X .\n",
            "\n",
            "Player X move: (2, 2)\n",
            "State: \n",
            "O X X\n",
            "X O O\n",
            "O X X\n",
            "\n",
            "X is MAX player who is a alphabeta player who always takes optimal move\n",
            "0 is MIN player who is a minimax player who always takes optimal move\n",
            "Utility Value of player X:  0\n"
          ]
        }
      ]
    },
    {
      "cell_type": "markdown",
      "source": [
        "**Connect Four:**\n",
        "\n",
        "**Connect Four is a variant of tic-tac-toe which is played on a larger (7 x 6) board, and with the restriction that in any column we can only play in the lowest empty square in the column.**"
      ],
      "metadata": {
        "id": "MO2muLK4neI7"
      }
    },
    {
      "cell_type": "code",
      "source": [
        "class ConnectFour(TicTacToe):\n",
        "    \n",
        "  def __init__(self): super().__init__(width=7, height=6, k=4)\n",
        "\n",
        "  def actions(self, board):\n",
        "      \"\"\"In each column you can play only the lowest empty square in the column.\"\"\"\n",
        "      return {(x, y) for (x, y) in self.squares - set(board)\n",
        "              if y == board.height - 1 or (x, y + 1) in board}"
      ],
      "metadata": {
        "id": "G7G0ZCRnntz0"
      },
      "execution_count": null,
      "outputs": []
    },
    {
      "cell_type": "code",
      "source": [
        "a = play_game(ConnectFour(), dict(X=random_player, O=random_player), verbose=True)\n",
        "print(\"Utility Value of player X: \",a.utility)"
      ],
      "metadata": {
        "colab": {
          "base_uri": "https://localhost:8080/"
        },
        "id": "uHa7gjabnyTm",
        "outputId": "1ea35524-ff26-42fc-f906-bd31cde0b129"
      },
      "execution_count": null,
      "outputs": [
        {
          "output_type": "stream",
          "name": "stdout",
          "text": [
            "Player X move: (6, 5)\n",
            "State: \n",
            ". . . . . . .\n",
            ". . . . . . .\n",
            ". . . . . . .\n",
            ". . . . . . .\n",
            ". . . . . . .\n",
            ". . . . . . X\n",
            "\n",
            "Player O move: (2, 5)\n",
            "State: \n",
            ". . . . . . .\n",
            ". . . . . . .\n",
            ". . . . . . .\n",
            ". . . . . . .\n",
            ". . . . . . .\n",
            ". . O . . . X\n",
            "\n",
            "Player X move: (4, 5)\n",
            "State: \n",
            ". . . . . . .\n",
            ". . . . . . .\n",
            ". . . . . . .\n",
            ". . . . . . .\n",
            ". . . . . . .\n",
            ". . O . X . X\n",
            "\n",
            "Player O move: (4, 4)\n",
            "State: \n",
            ". . . . . . .\n",
            ". . . . . . .\n",
            ". . . . . . .\n",
            ". . . . . . .\n",
            ". . . . O . .\n",
            ". . O . X . X\n",
            "\n",
            "Player X move: (0, 5)\n",
            "State: \n",
            ". . . . . . .\n",
            ". . . . . . .\n",
            ". . . . . . .\n",
            ". . . . . . .\n",
            ". . . . O . .\n",
            "X . O . X . X\n",
            "\n",
            "Player O move: (4, 3)\n",
            "State: \n",
            ". . . . . . .\n",
            ". . . . . . .\n",
            ". . . . . . .\n",
            ". . . . O . .\n",
            ". . . . O . .\n",
            "X . O . X . X\n",
            "\n",
            "Player X move: (4, 2)\n",
            "State: \n",
            ". . . . . . .\n",
            ". . . . . . .\n",
            ". . . . X . .\n",
            ". . . . O . .\n",
            ". . . . O . .\n",
            "X . O . X . X\n",
            "\n",
            "Player O move: (2, 4)\n",
            "State: \n",
            ". . . . . . .\n",
            ". . . . . . .\n",
            ". . . . X . .\n",
            ". . . . O . .\n",
            ". . O . O . .\n",
            "X . O . X . X\n",
            "\n",
            "Player X move: (1, 5)\n",
            "State: \n",
            ". . . . . . .\n",
            ". . . . . . .\n",
            ". . . . X . .\n",
            ". . . . O . .\n",
            ". . O . O . .\n",
            "X X O . X . X\n",
            "\n",
            "Player O move: (5, 5)\n",
            "State: \n",
            ". . . . . . .\n",
            ". . . . . . .\n",
            ". . . . X . .\n",
            ". . . . O . .\n",
            ". . O . O . .\n",
            "X X O . X O X\n",
            "\n",
            "Player X move: (2, 3)\n",
            "State: \n",
            ". . . . . . .\n",
            ". . . . . . .\n",
            ". . . . X . .\n",
            ". . X . O . .\n",
            ". . O . O . .\n",
            "X X O . X O X\n",
            "\n",
            "Player O move: (2, 2)\n",
            "State: \n",
            ". . . . . . .\n",
            ". . . . . . .\n",
            ". . O . X . .\n",
            ". . X . O . .\n",
            ". . O . O . .\n",
            "X X O . X O X\n",
            "\n",
            "Player X move: (3, 5)\n",
            "State: \n",
            ". . . . . . .\n",
            ". . . . . . .\n",
            ". . O . X . .\n",
            ". . X . O . .\n",
            ". . O . O . .\n",
            "X X O X X O X\n",
            "\n",
            "Player O move: (1, 4)\n",
            "State: \n",
            ". . . . . . .\n",
            ". . . . . . .\n",
            ". . O . X . .\n",
            ". . X . O . .\n",
            ". O O . O . .\n",
            "X X O X X O X\n",
            "\n",
            "Player X move: (1, 3)\n",
            "State: \n",
            ". . . . . . .\n",
            ". . . . . . .\n",
            ". . O . X . .\n",
            ". X X . O . .\n",
            ". O O . O . .\n",
            "X X O X X O X\n",
            "\n",
            "Player O move: (6, 4)\n",
            "State: \n",
            ". . . . . . .\n",
            ". . . . . . .\n",
            ". . O . X . .\n",
            ". X X . O . .\n",
            ". O O . O . O\n",
            "X X O X X O X\n",
            "\n",
            "Player X move: (6, 3)\n",
            "State: \n",
            ". . . . . . .\n",
            ". . . . . . .\n",
            ". . O . X . .\n",
            ". X X . O . X\n",
            ". O O . O . O\n",
            "X X O X X O X\n",
            "\n",
            "Player O move: (4, 1)\n",
            "State: \n",
            ". . . . . . .\n",
            ". . . . O . .\n",
            ". . O . X . .\n",
            ". X X . O . X\n",
            ". O O . O . O\n",
            "X X O X X O X\n",
            "\n",
            "Player X move: (3, 4)\n",
            "State: \n",
            ". . . . . . .\n",
            ". . . . O . .\n",
            ". . O . X . .\n",
            ". X X . O . X\n",
            ". O O X O . O\n",
            "X X O X X O X\n",
            "\n",
            "Player O move: (3, 3)\n",
            "State: \n",
            ". . . . . . .\n",
            ". . . . O . .\n",
            ". . O . X . .\n",
            ". X X O O . X\n",
            ". O O X O . O\n",
            "X X O X X O X\n",
            "\n",
            "Utility Value of player X:  -1\n"
          ]
        }
      ]
    },
    {
      "cell_type": "markdown",
      "source": [
        "**N-Queen:**"
      ],
      "metadata": {
        "id": "8ImO2MXkoB77"
      }
    },
    {
      "cell_type": "code",
      "source": [
        "# N = Number of queens\n",
        "\n",
        "N = 8\n",
        "\n",
        "#NxN matrix with all elements 0\n",
        "board = [[0]*N for _ in range(N)]\n",
        "\n",
        "def is_attack(i, j):\n",
        "    #checking if there is a queen in row or column\n",
        "    for k in range(0,N):\n",
        "        if board[i][k]==1 or board[k][j]==1:\n",
        "            return True\n",
        "    #checking diagonals\n",
        "    for k in range(0,N):\n",
        "        for l in range(0,N):\n",
        "            if (k+l==i+j) or (k-l==i-j):\n",
        "                if board[k][l]==1:\n",
        "                    return True\n",
        "    return False\n",
        "\n",
        "def N_queen(n):\n",
        "    #n is 0 -> solution found\n",
        "    if n==0:\n",
        "        return True\n",
        "    for i in range(0,N):\n",
        "        for j in range(0,N):\n",
        "            if (not(is_attack(i,j))) and (board[i][j]!=1):\n",
        "                board[i][j] = 1\n",
        "                if N_queen(n-1)==True:\n",
        "                    return True\n",
        "                board[i][j] = 0\n",
        "\n",
        "    return False\n",
        "\n",
        "N_queen(N)\n",
        "\n",
        "input = board\n",
        "print(\"Output : \\n\")\n",
        "print(\" -------------------------------------------------\")\n",
        "for i in range(0,8):\n",
        "  print(\" | \",input[i][0] , \" | \",input[i][1] , \" | \",input[i][2] , \" | \",input[i][3] , \" | \",input[i][4] , \" | \",input[i][5] , \" | \",input[i][6] , \" | \",input[i][7] ,\" | \" )\n",
        "  print(\" -------------------------------------------------\")\n",
        "\n",
        "print(\"\\n\")"
      ],
      "metadata": {
        "colab": {
          "base_uri": "https://localhost:8080/"
        },
        "id": "d85JLi7poOB8",
        "outputId": "cd0f03ce-bb41-4913-e443-3108f146f740"
      },
      "execution_count": null,
      "outputs": [
        {
          "output_type": "stream",
          "name": "stdout",
          "text": [
            "Output : \n",
            "\n",
            " -------------------------------------------------\n",
            " |  1  |  0  |  0  |  0  |  0  |  0  |  0  |  0  | \n",
            " -------------------------------------------------\n",
            " |  0  |  0  |  0  |  0  |  1  |  0  |  0  |  0  | \n",
            " -------------------------------------------------\n",
            " |  0  |  0  |  0  |  0  |  0  |  0  |  0  |  1  | \n",
            " -------------------------------------------------\n",
            " |  0  |  0  |  0  |  0  |  0  |  1  |  0  |  0  | \n",
            " -------------------------------------------------\n",
            " |  0  |  0  |  1  |  0  |  0  |  0  |  0  |  0  | \n",
            " -------------------------------------------------\n",
            " |  0  |  0  |  0  |  0  |  0  |  0  |  1  |  0  | \n",
            " -------------------------------------------------\n",
            " |  0  |  1  |  0  |  0  |  0  |  0  |  0  |  0  | \n",
            " -------------------------------------------------\n",
            " |  0  |  0  |  0  |  1  |  0  |  0  |  0  |  0  | \n",
            " -------------------------------------------------\n",
            "\n",
            "\n"
          ]
        }
      ]
    },
    {
      "cell_type": "markdown",
      "source": [
        "**Graph Coloring:**"
      ],
      "metadata": {
        "id": "BKIBJPiU5C3z"
      }
    },
    {
      "cell_type": "code",
      "source": [
        "# here our graph has 4 nodes. So we use 4*4 matrix.\n",
        "# Each element of the matrix deteremine whether there is an edge between corresponding nodes or not\n",
        "# 1 means edge exists, 0 means edge does not exist\n",
        "\n",
        "def isSafe(graph, color):\n",
        "\tfor i in range(4):\n",
        "\t\tfor j in range(i + 1, 4):\n",
        "\t\t\tif (graph[i][j] and color[j] == color[i]):\n",
        "\t\t\t\treturn False\n",
        "\treturn True\n",
        "\n",
        "\n",
        "def graphColoring(graph, m, i, color):\n",
        "\tif (i == 4):\n",
        "\t\tif (isSafe(graph, color)):\n",
        "\t\t\tprintSolution(color)\n",
        "\t\t\treturn True\n",
        "\t\treturn False\n",
        "\n",
        "\tfor j in range(1, m + 1):\n",
        "\t\tcolor[i] = j\n",
        "\t\tif (graphColoring(graph, m, i + 1, color)):\n",
        "\t\t\treturn True\n",
        "\t\tcolor[i] = 0\n",
        "\treturn False\n",
        "\n",
        "\n",
        "def printSolution(color):\n",
        "  print(\"Solution exists: \\n\")\n",
        "  for i in range(0,4):\n",
        "    if color[i] == 1:\n",
        "      print(\"Node \",i+1,\": \",\"Red\")\n",
        "    elif color[i] == 2:\n",
        "      print(\"Node \",i+1,\": \",\"Green\")\n",
        "    elif color[i] == 3:\n",
        "      print(\"Node \",i+1,\": \",\"Blue\")\n",
        "\t\n",
        "\n",
        "\n",
        "\n",
        "graph = [\n",
        "  [ 0, 1, 1, 0 ],\n",
        "  [ 1, 0, 1, 0 ],\n",
        "  [ 1, 1, 0, 1 ],\n",
        "  [ 0, 0, 1, 0 ],\n",
        "]\n",
        "m = 3 \n",
        "color = [0 for i in range(4)]\n",
        "\n",
        "if (not graphColoring(graph, m, 0, color)):\n",
        "  print (\"Solution not exist\")\n",
        "\n",
        "  \n",
        "\n",
        "\n"
      ],
      "metadata": {
        "colab": {
          "base_uri": "https://localhost:8080/"
        },
        "id": "aa2OiF1Q2l1w",
        "outputId": "982b8807-c3b7-4998-beaa-14a97ec037fc"
      },
      "execution_count": null,
      "outputs": [
        {
          "output_type": "stream",
          "name": "stdout",
          "text": [
            "Solution exists: \n",
            "\n",
            "Node  1 :  Red\n",
            "Node  2 :  Green\n",
            "Node  3 :  Blue\n",
            "Node  4 :  Red\n"
          ]
        }
      ]
    },
    {
      "cell_type": "markdown",
      "source": [
        "**8 Puzzle:**"
      ],
      "metadata": {
        "id": "guYHB4g3cqmb"
      }
    },
    {
      "cell_type": "code",
      "source": [
        "%matplotlib inline\n",
        "import networkx as nx\n",
        "import matplotlib.pyplot as plt\n",
        "from matplotlib import lines\n",
        "\n",
        "from ipywidgets import interact\n",
        "import ipywidgets as widgets\n",
        "from IPython.display import display\n",
        "import time"
      ],
      "metadata": {
        "id": "2Lepxp8RdI_q"
      },
      "execution_count": null,
      "outputs": []
    },
    {
      "cell_type": "code",
      "source": [
        "goal = [1, 2, 3, 4, 5, 6, 7, 8, 0]"
      ],
      "metadata": {
        "id": "jnOgmusehQwF"
      },
      "execution_count": null,
      "outputs": []
    },
    {
      "cell_type": "code",
      "source": [
        "%matplotlib inline\n",
        "import matplotlib.pyplot as plt\n",
        "import random\n",
        "import heapq\n",
        "import math\n",
        "import sys\n",
        "from collections import defaultdict, deque, Counter\n",
        "from itertools import combinations\n",
        "\n",
        "\n",
        "class Problem(object):\n",
        "\n",
        "    def __init__(self, initial=None, goal=None, **kwds): \n",
        "      self.__dict__.update(initial=initial, goal=goal, **kwds) \n",
        "        \n",
        "    def actions(self, state):        \n",
        "      raise NotImplementedError\n",
        "\n",
        "    def result(self, state, action):\n",
        "      raise NotImplementedError\n",
        "\n",
        "    def is_goal(self, state):        \n",
        "      return state == self.goal\n",
        "\n",
        "    def action_cost(self, s, a, s1): \n",
        "      return 1\n",
        "\n",
        "    def h(self, node):               \n",
        "      return 0\n",
        "    \n",
        "    def __str__(self):\n",
        "        return '{}({!r}, {!r})'.format(\n",
        "            type(self).__name__, self.initial, self.goal)\n",
        "    \n",
        "\n",
        "class Node:\n",
        "    def __init__(self, state, parent=None, action=None, path_cost=0):\n",
        "      self.__dict__.update(state=state, parent=parent, action=action, path_cost=path_cost)\n",
        "\n",
        "    def __repr__(self): \n",
        "      return '<{}>'.format(self.state)\n",
        "\n",
        "    def __len__(self): \n",
        "      return 0 if self.parent is None else (1 + len(self.parent))\n",
        "\n",
        "    def __lt__(self, other): \n",
        "      return self.path_cost < other.path_cost\n",
        "    \n",
        "    \n",
        "failure = Node('failure', path_cost=math.inf)  #  algorithm couldn't find a solution.\n",
        "cutoff  = Node('cutoff',  path_cost=math.inf)  #  iterative deepening search was cut off.\n",
        "    \n",
        "    \n",
        "def expand(problem, node):\n",
        "    s = node.state\n",
        "    for action in problem.actions(s):\n",
        "      s1 = problem.result(s, action)\n",
        "      cost = node.path_cost + problem.action_cost(s, action, s1)\n",
        "      yield Node(s1, node, action, cost)\n",
        "        \n",
        "\n",
        "def path_actions(node):\n",
        "    if node.parent is None:\n",
        "      return []  \n",
        "    return path_actions(node.parent) + [node.action]\n",
        "\n",
        "\n",
        "def path_states(node):\n",
        "    if node in (cutoff, failure, None): \n",
        "      return []\n",
        "    return path_states(node.parent) + [node.state]"
      ],
      "metadata": {
        "id": "2yIcIl11jYQh"
      },
      "execution_count": null,
      "outputs": []
    },
    {
      "cell_type": "code",
      "source": [
        "FIFOQueue = deque\n",
        "\n",
        "LIFOQueue = list\n",
        "\n",
        "class PriorityQueue:\n",
        "  def __init__(self, items=(), key=lambda x: x): \n",
        "    self.key = key\n",
        "    self.items = []\n",
        "    for item in items:\n",
        "      self.add(item)\n",
        "        \n",
        "  def add(self, item):\n",
        "    pair = (self.key(item), item)\n",
        "    heapq.heappush(self.items, pair)\n",
        "\n",
        "  def pop(self):\n",
        "    return heapq.heappop(self.items)[1]\n",
        "  \n",
        "  def top(self): \n",
        "    return self.items[0][1]\n",
        "\n",
        "  def __len__(self): \n",
        "    return len(self.items)"
      ],
      "metadata": {
        "id": "iI5n31s8kGjZ"
      },
      "execution_count": null,
      "outputs": []
    },
    {
      "cell_type": "code",
      "source": [
        "def g(n): return n.path_cost\n",
        "\n",
        "def best_first_search(problem, f):\n",
        "    node = Node(problem.initial)\n",
        "    frontier = PriorityQueue([node], key=f)\n",
        "    reached = {problem.initial: node}\n",
        "    while frontier:\n",
        "        node = frontier.pop()\n",
        "        if problem.is_goal(node.state):\n",
        "            return node\n",
        "        for child in expand(problem, node):\n",
        "            s = child.state\n",
        "            if s not in reached or child.path_cost < reached[s].path_cost:\n",
        "                reached[s] = child\n",
        "                frontier.add(child)\n",
        "    return failure\n",
        "\n",
        "def astar_search(problem, h=None):\n",
        "    #we find minimum f(n) = g(n) + h(n).\n",
        "    h = h or problem.h\n",
        "    return best_first_search(problem, f=lambda n: g(n) + h(n))\n"
      ],
      "metadata": {
        "id": "TO_5iQgCj4Rv"
      },
      "execution_count": null,
      "outputs": []
    },
    {
      "cell_type": "code",
      "source": [
        "class EightPuzzle(Problem):\n",
        "\n",
        "    def __init__(self, initial, goal=(0, 1, 2, 3, 4, 5, 6, 7, 8)):\n",
        "      assert inversions(initial) % 2 == inversions(goal) % 2 # Parity check\n",
        "      self.initial, self.goal = initial, goal\n",
        "    \n",
        "    def actions(self, state):\n",
        "      moves = ((1, 3),    (0, 2, 4),    (1, 5),\n",
        "                (0, 4, 6), (1, 3, 5, 7), (2, 4, 8),\n",
        "                (3, 7),    (4, 6, 8),    (7, 5))\n",
        "      blank = state.index(0)\n",
        "      return moves[blank]\n",
        "    \n",
        "    def result(self, state, action):\n",
        "      s = list(state)\n",
        "      blank = state.index(0)\n",
        "      s[action], s[blank] = s[blank], s[action]\n",
        "      return tuple(s)\n",
        "    \n",
        "    def h1(self, node):\n",
        "      return hamming_distance(node.state, self.goal)\n",
        "    \n",
        "    def h2(self, node):\n",
        "      X = (0, 1, 2, 0, 1, 2, 0, 1, 2)\n",
        "      Y = (0, 0, 0, 1, 1, 1, 2, 2, 2)\n",
        "      return sum(abs(X[s] - X[g]) + abs(Y[s] - Y[g])\n",
        "                  for (s, g) in zip(node.state, self.goal) if s != 0)\n",
        "    \n",
        "    def h(self, node): \n",
        "      X = (0, 1, 2, 0, 1, 2, 0, 1, 2)\n",
        "      Y = (0, 0, 0, 1, 1, 1, 2, 2, 2)\n",
        "      return sum(abs(X[s] - X[g]) + abs(Y[s] - Y[g])\n",
        "                  for (s, g) in zip(node.state, self.goal) if s != 0)\n",
        "    \n",
        "    \n",
        "def hamming_distance(A, B):\n",
        "  return sum(a != b for a, b in zip(A, B))\n",
        "    \n",
        "\n",
        "def inversions(board):\n",
        "  return sum((a > b and a != 0 and b != 0) for (a, b) in combinations(board, 2))\n",
        "    \n",
        "    \n",
        "def board8(board, fmt=(3 * '{} {} {}\\n')):\n",
        "  return fmt.format(*board).replace('0', '_')\n",
        "\n",
        "class Board(defaultdict):\n",
        "  empty = '.'\n",
        "  off = '#'\n",
        "  def __init__(self, board=None, width=8, height=8, to_move=None, **kwds):\n",
        "    if board is not None:\n",
        "      self.update(board)\n",
        "      self.width, self.height = (board.width, board.height) \n",
        "    else:\n",
        "      self.width, self.height = (width, height)\n",
        "    self.to_move = to_move\n",
        "\n",
        "  def __missing__(self, key):\n",
        "    x, y = key\n",
        "    if x < 0 or x >= self.width or y < 0 or y >= self.height:\n",
        "      return self.off\n",
        "    else:\n",
        "      return self.empty\n",
        "      \n",
        "  def __repr__(self):\n",
        "    def row(y): return ' '.join(self[x, y] for x in range(self.width))\n",
        "    return '\\n'.join(row(y) for y in range(self.height))\n",
        "          \n",
        "  def __hash__(self): \n",
        "    return hash(tuple(sorted(self.items()))) + hash(self.to_move)"
      ],
      "metadata": {
        "id": "w1HNNfwUknv3"
      },
      "execution_count": null,
      "outputs": []
    },
    {
      "cell_type": "code",
      "source": [
        "e1 = EightPuzzle((1, 4, 2, 0, 7, 5, 3, 6, 8))\n",
        "for s in path_states(astar_search(e1)):\n",
        "    print(board8(s))"
      ],
      "metadata": {
        "colab": {
          "base_uri": "https://localhost:8080/"
        },
        "id": "voJpZyT1lCYG",
        "outputId": "020d4c3e-282d-4d74-b152-22722b745985"
      },
      "execution_count": null,
      "outputs": [
        {
          "output_type": "stream",
          "name": "stdout",
          "text": [
            "1 4 2\n",
            "_ 7 5\n",
            "3 6 8\n",
            "\n",
            "1 4 2\n",
            "3 7 5\n",
            "_ 6 8\n",
            "\n",
            "1 4 2\n",
            "3 7 5\n",
            "6 _ 8\n",
            "\n",
            "1 4 2\n",
            "3 _ 5\n",
            "6 7 8\n",
            "\n",
            "1 _ 2\n",
            "3 4 5\n",
            "6 7 8\n",
            "\n",
            "_ 1 2\n",
            "3 4 5\n",
            "6 7 8\n",
            "\n"
          ]
        }
      ]
    }
  ]
}