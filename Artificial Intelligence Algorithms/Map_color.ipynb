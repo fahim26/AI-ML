{
  "nbformat": 4,
  "nbformat_minor": 0,
  "metadata": {
    "colab": {
      "provenance": []
    },
    "kernelspec": {
      "name": "python3",
      "display_name": "Python 3"
    },
    "language_info": {
      "name": "python"
    }
  },
  "cells": [
    {
      "cell_type": "markdown",
      "source": [
        "Backtracking is an algorithmic paradigm that tries different solutions until finds a solution that “works”. Problems which are typically solved using backtracking technique have following property in common. These problems can only be solved by trying every possible configuration and each configuration is tried only once.\n",
        "\n",
        "Given an undirected graph and a number m, determine if the graph can be colored with at most m colors such that no two adjacent vertices of the graph are colored with same color. Here coloring of a graph means assignment of colors to all vertices.\n",
        "\n",
        "1) A 2D array graph[V][V] where V is the number of vertices in graph and graph[V][V] is adjacency matrix representation of the graph. A value graph[i][j] is 1 if there is a direct edge from i to j, otherwise graph[i][j] is 0.\n",
        "2) An integer m which is maximum number of colors that can be used.\n",
        "\n",
        "Output: An array color[V] that should have numbers from 1 to m. color[i] should represent the color assigned to the ith vertex. The code should also return false if the graph cannot be colored with m colors."
      ],
      "metadata": {
        "id": "TQT-yPPW1tL9"
      }
    },
    {
      "cell_type": "markdown",
      "source": [
        "If all colors are assigned,\n",
        "    print vertex assigned colors\n",
        "Else\n",
        "    a. Trying all possible colors, assign a color to the vertex\n",
        "    b. If color assignment is possible, recursivelty assign colors to next vertices\n",
        "    c. If color assignment is not possible, de-assign color, return False"
      ],
      "metadata": {
        "id": "47WYgxci1zBF"
      }
    },
    {
      "cell_type": "code",
      "source": [
        "def is_safe(n, graph, colors, c):\n",
        "    # Iterate trough adjacent vertices\n",
        "    # and check if the vertex color is different from c\n",
        "    for i in range(n):\n",
        "        if graph[n][i] and c == colors[i]: return False\n",
        "    return True\n",
        "\n",
        "# n = vertex nb\n",
        "def graphColoringUtil(graph, color_nb, colors, n):\n",
        "    # Check if all vertices are assigned a color\n",
        "    if color_nb+1 == n :\n",
        "        return True\n",
        "\n",
        "    # Trying differents color for the vertex n\n",
        "    for c in range(1, color_nb+1):\n",
        "        # Check if assignment of color c to n is possible\n",
        "        if is_safe(n, graph, colors, c):\n",
        "            # Assign color c to n\n",
        "            colors[n] = c\n",
        "            # Recursively assign colors to the rest of the vertices\n",
        "            if graphColoringUtil(graph, color_nb, colors, n+1): return True\n",
        "            # If there is no solution, remove color (BACKTRACK)\n",
        "            colors[n] = 0"
      ],
      "metadata": {
        "id": "aLAuVgyI12ax"
      },
      "execution_count": 1,
      "outputs": []
    },
    {
      "cell_type": "code",
      "source": [
        "#nb of vertex\n",
        "vertex_nb = 4\n",
        "# nb of colors\n",
        "color_nb = 3\n",
        "# Initiate vertex colors\n",
        "colors = [0] * vertex_nb\n",
        "\n",
        "graph = [\n",
        "    [0, 1, 1, 1],\n",
        "    [1, 0, 1, 0],\n",
        "    [1, 1, 0, 1],\n",
        "    [1, 0, 1, 0],\n",
        "]\n",
        "\n",
        "#beginning with vertex 0\n",
        "if graphColoringUtil(graph, color_nb, colors, 0):\n",
        "    print(colors)\n",
        "else:\n",
        "    print(\"No solutions\")"
      ],
      "metadata": {
        "colab": {
          "base_uri": "https://localhost:8080/"
        },
        "id": "elklKDqB2Aoo",
        "outputId": "d017d3b2-8a63-4cc5-da76-8ac9f5631dc3"
      },
      "execution_count": 2,
      "outputs": [
        {
          "output_type": "stream",
          "name": "stdout",
          "text": [
            "[1, 2, 3, 2]\n"
          ]
        }
      ]
    },
    {
      "cell_type": "markdown",
      "source": [
        "The solution corresponds to the following assignments:\n",
        "\n",
        "1st node : color 1\n",
        "\n",
        "2nd node : color 2\n",
        "\n",
        "3rd node : color 3"
      ],
      "metadata": {
        "id": "XdkBIPaB2xV2"
      }
    }
  ]
}