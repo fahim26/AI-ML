{
  "nbformat": 4,
  "nbformat_minor": 0,
  "metadata": {
    "colab": {
      "provenance": []
    },
    "kernelspec": {
      "name": "python3",
      "display_name": "Python 3"
    },
    "language_info": {
      "name": "python"
    }
  },
  "cells": [
    {
      "cell_type": "markdown",
      "source": [
        "# **Name: MD Fahimul Islam**\n",
        "\n",
        "# **Reg No: 2017331026**"
      ],
      "metadata": {
        "id": "Sx3KfdENqMID"
      }
    },
    {
      "cell_type": "markdown",
      "source": [
        "# **Cryptarithmetic --> SEND + MORE = MONEY | TWO + TWO = FOUR**"
      ],
      "metadata": {
        "id": "pHv3thBbN070"
      }
    },
    {
      "cell_type": "code",
      "source": [
        "from ortools.sat.python import cp_model\n",
        "model1 = cp_model.CpModel()\n",
        "\n",
        "base = 10\n",
        "\n",
        "s = model1.NewIntVar(1, 9, 'S')\n",
        "e = model1.NewIntVar(0, 9, 'E')\n",
        "n = model1.NewIntVar(0, 9, 'N')\n",
        "d = model1.NewIntVar(0, 9, 'D')\n",
        "m = model1.NewIntVar(1, 9, 'M')\n",
        "o = model1.NewIntVar(0, 9, 'O')\n",
        "r = model1.NewIntVar(0, 9, 'R')\n",
        "y = model1.NewIntVar(0, 9, 'Y')\n",
        "\n",
        "\n",
        "# List of variables\n",
        "letters1 = [s,e,n,d,m,o,r,y]\n",
        "\n",
        "# Define the constraints\n",
        "model1.AddAllDifferent(letters1)\n",
        "\n",
        "\n",
        "model1.Add(s * 10**3 + e*10**2 + n * 10 + d + m * 10**3 + o * 10**2 + r * 10 + e  == m * 10**4 + o * 10**3 + n * 10**2 + e*10 + y)"
      ],
      "metadata": {
        "id": "o8ZTKGV0dZDB",
        "colab": {
          "base_uri": "https://localhost:8080/"
        },
        "outputId": "2d2a1aa4-bb44-401c-ce38-502622f35e9b"
      },
      "execution_count": null,
      "outputs": [
        {
          "output_type": "execute_result",
          "data": {
            "text/plain": [
              "<ortools.sat.python.cp_model.Constraint at 0x7fa018f1fcd0>"
            ]
          },
          "metadata": {},
          "execution_count": 52
        }
      ]
    },
    {
      "cell_type": "code",
      "source": [
        "from ortools.sat.python import cp_model\n",
        "model2 = cp_model.CpModel()\n",
        "\n",
        "base = 10\n",
        "\n",
        "t = model2.NewIntVar(1, 9, 'T')\n",
        "w = model2.NewIntVar(0, 9, 'W')\n",
        "o = model2.NewIntVar(0, 9, 'O')\n",
        "f = model2.NewIntVar(0, 9, 'F')\n",
        "u = model2.NewIntVar(1, 9, 'U')\n",
        "r = model2.NewIntVar(0, 9, 'R')\n",
        "\n",
        "\n",
        "# List of variables\n",
        "letters2 = [t,w,o,f,u,r]\n",
        "\n",
        "# Define the constraints\n",
        "model2.AddAllDifferent(letters2)\n",
        "\n",
        "\n",
        "model2.Add(t*10**2 + w * 10 + o + t*10**2 + w * 10 + o  == f*10**3 + o*10**2 + u*10 + r)"
      ],
      "metadata": {
        "colab": {
          "base_uri": "https://localhost:8080/"
        },
        "id": "rHZ_C5FcdfZq",
        "outputId": "5e14ab85-0ee6-4caf-cdf3-7767623e51f1"
      },
      "execution_count": null,
      "outputs": [
        {
          "output_type": "execute_result",
          "data": {
            "text/plain": [
              "<ortools.sat.python.cp_model.Constraint at 0x7fa018f65810>"
            ]
          },
          "metadata": {},
          "execution_count": 53
        }
      ]
    },
    {
      "cell_type": "code",
      "source": [
        "# Solution Printer Class\n",
        "class VarArraySolutionPrinter(cp_model.CpSolverSolutionCallback):\n",
        "    \n",
        "    def __init__(self, variables):\n",
        "        cp_model.CpSolverSolutionCallback.__init__(self)\n",
        "        self.__variables = variables\n",
        "        self.__solution_count = 0\n",
        "    \n",
        "    def on_solution_callback(self):\n",
        "        self.__solution_count += 1\n",
        "        for v in self.__variables:\n",
        "            print('%s=%i ' %(v, self.Value(v)), end='')\n",
        "        print()\n",
        "    \n",
        "    def solution_count(self):\n",
        "        return self.__solution_count"
      ],
      "metadata": {
        "id": "gcsUv-fhdrEk"
      },
      "execution_count": null,
      "outputs": []
    },
    {
      "cell_type": "code",
      "source": [
        "# Call the solver\n",
        "solver = cp_model.CpSolver()\n",
        "solution_printer = VarArraySolutionPrinter(letters1)\n",
        "\n",
        "status =  solver.SearchForAllSolutions(model1, solution_printer)\n"
      ],
      "metadata": {
        "colab": {
          "base_uri": "https://localhost:8080/"
        },
        "id": "zUrdlu8bpNX-",
        "outputId": "a5a20a76-abf0-41a6-cf25-c421d67382bd"
      },
      "execution_count": null,
      "outputs": [
        {
          "output_type": "stream",
          "name": "stdout",
          "text": [
            "S=9 E=5 N=6 D=7 M=1 O=0 R=8 Y=2 \n"
          ]
        }
      ]
    },
    {
      "cell_type": "code",
      "source": [
        "# Call the solver\n",
        "solver = cp_model.CpSolver()\n",
        "solution_printer = VarArraySolutionPrinter(letters2)\n",
        "\n",
        "status =  solver.SearchForAllSolutions(model2, solution_printer)"
      ],
      "metadata": {
        "colab": {
          "base_uri": "https://localhost:8080/"
        },
        "id": "QBlLUAnor8Gw",
        "outputId": "064fba6a-a8d4-4cc5-92f7-fb6a6cfee38d"
      },
      "execution_count": null,
      "outputs": [
        {
          "output_type": "stream",
          "name": "stdout",
          "text": [
            "T=3 W=4 O=6 F=0 U=9 R=2 \n",
            "T=1 W=3 O=2 F=0 U=6 R=4 \n",
            "T=1 W=7 O=3 F=0 U=4 R=6 \n",
            "T=4 W=1 O=8 F=0 U=3 R=6 \n",
            "T=1 W=9 O=3 F=0 U=8 R=6 \n",
            "T=2 W=3 O=4 F=0 U=6 R=8 \n",
            "T=4 W=5 O=9 F=0 U=1 R=8 \n",
            "T=3 W=5 O=7 F=0 U=1 R=4 \n",
            "T=4 W=3 O=8 F=0 U=7 R=6 \n",
            "T=4 W=7 O=9 F=0 U=5 R=8 \n",
            "T=4 W=2 O=8 F=0 U=5 R=6 \n",
            "T=4 W=6 O=9 F=0 U=3 R=8 \n",
            "T=9 W=2 O=8 F=1 U=5 R=6 \n",
            "T=7 W=6 O=5 F=1 U=3 R=0 \n",
            "T=8 W=3 O=6 F=1 U=7 R=2 \n",
            "T=8 W=6 O=7 F=1 U=3 R=4 \n",
            "T=7 W=3 O=4 F=1 U=6 R=8 \n",
            "T=9 W=3 O=8 F=1 U=7 R=6 \n",
            "T=8 W=4 O=6 F=1 U=9 R=2 \n"
          ]
        }
      ]
    }
  ]
}