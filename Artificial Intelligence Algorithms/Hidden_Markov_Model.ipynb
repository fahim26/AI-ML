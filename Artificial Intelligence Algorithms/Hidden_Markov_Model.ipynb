{
  "nbformat": 4,
  "nbformat_minor": 0,
  "metadata": {
    "colab": {
      "provenance": []
    },
    "kernelspec": {
      "name": "python3",
      "display_name": "Python 3"
    },
    "language_info": {
      "name": "python"
    }
  },
  "cells": [
    {
      "cell_type": "markdown",
      "source": [
        "### **Fahimul Islam**\n",
        "\n",
        "### **2017331026**"
      ],
      "metadata": {
        "id": "OZWguS8D1Enc"
      }
    },
    {
      "cell_type": "markdown",
      "source": [
        "### **Absent/Present Predictor**"
      ],
      "metadata": {
        "id": "YhG5mE3r-u3b"
      }
    },
    {
      "cell_type": "code",
      "source": [
        "# Import libraries\n",
        "import numpy as np\n",
        "import pandas as pd\n",
        "import pprint\n",
        "# Get markov edges\n",
        "def get_markov_edges(df):\n",
        "    # Create a dictionary\n",
        "    edges = {}\n",
        "    # Loop columns\n",
        "    for column in df.columns:\n",
        "        # Loop rows\n",
        "        for row in df.index:\n",
        "            edges[(row,column)] = df.loc[row,column]\n",
        "    # Return edges\n",
        "    return edges\n",
        "\n",
        "def viterbi(pi, a, b, obs):\n",
        "    \n",
        "    nStates = np.shape(b)[0]\n",
        "    T = np.shape(obs)[0]\n",
        "    \n",
        "    path = np.zeros(T)\n",
        "    delta = np.zeros((nStates, T))\n",
        "    phi = np.zeros((nStates, T))\n",
        "    \n",
        "    delta[:, 0] = pi * b[:, obs[0]]\n",
        "    phi[:, 0] = 0\n",
        "    for t in range(1, T):\n",
        "        for s in range(nStates):\n",
        "            delta[s, t] = np.max(delta[:, t-1] * a[:, s]) * b[s, obs[t]] \n",
        "            phi[s, t] = np.argmax(delta[:, t-1] * a[:, s])\n",
        "    \n",
        "    path[T-1] = np.argmax(delta[:, T-1])\n",
        "    for t in range(T-2, -1, -1):\n",
        "        path[t] = phi[int(path[t+1]),int(t+1)]\n",
        "        \n",
        "    return path, delta, phi\n",
        "# The main entry point for this module\n",
        "def main():\n",
        "    # Observation states\n",
        "    # The director can have an umbrella or not have an umbrella (equally likely)\n",
        "    observation_states = ['BoringClass', 'InterestingClass']\n",
        "    # Create hidden states with probabilities (250 rainy days per year)\n",
        "    p = [0.32, 0.68]\n",
        "    #p = [0.5, 0.5]\n",
        "    #p = [0.7, 0.3]\n",
        "    hidden_states = ['Present', 'Absent']\n",
        "    state_space = pd.Series(p, index=hidden_states, name='states')\n",
        "    # Print hidden states\n",
        "    print('--- Hidden states ---')\n",
        "    print(state_space)\n",
        "    print()\n",
        "    # Create a hidden states transition matrix with probabilities\n",
        "    hidden_df = pd.DataFrame(columns=hidden_states, index=hidden_states)\n",
        "    hidden_df.loc[hidden_states[0]] = [0.75, 0.25]\n",
        "    hidden_df.loc[hidden_states[1]] = [0.25, 0.75]\n",
        "    # Print transition matrix\n",
        "    print('--- Transition matrix for hidden states ---')\n",
        "    print(hidden_df)\n",
        "    print()\n",
        "    print(hidden_df.sum(axis=1))\n",
        "    print()\n",
        "    # Create matrix of observations with sensor probabilities\n",
        "    observations_df = pd.DataFrame(columns=observation_states, index=hidden_states)\n",
        "    observations_df.loc[hidden_states[0]] = [0.1, 0.9]\n",
        "    observations_df.loc[hidden_states[1]] = [0.8, 0.2]\n",
        "    # Print observation matrix\n",
        "    print('--- Sensor matrix ---')\n",
        "    print(observations_df)\n",
        "    print()\n",
        "    print(observations_df.sum(axis=1))\n",
        "    print()\n",
        "    # Create graph edges and weights\n",
        "    hidden_edges = get_markov_edges(hidden_df)\n",
        "    observation_edges = get_markov_edges(observations_df)\n",
        "    # Print edges\n",
        "    print('--- Hidden edges ---')\n",
        "    pprint.pprint(hidden_edges)\n",
        "    print()\n",
        "    print('--- Sensor edges ---')\n",
        "    pprint.pprint(observation_edges)\n",
        "    print()\n",
        "    # Observations\n",
        "    observations_map = {0:'BoringClass', 1:'InterestingClass'}\n",
        "    observations = np.array([1,1,1,0,1,1,1,0,0,0])\n",
        "    observerations_path = [observations_map[v] for v in list(observations)]\n",
        "    # Get predictions with the viterbi algorithm\n",
        "    path, delta, phi = viterbi(p, hidden_df.values, observations_df.values, observations)\n",
        "    state_map = {0:'Present', 1:'Absent'}\n",
        "    state_path = [state_map[v] for v in path]\n",
        "    state_delta = np.amax(delta, axis=0)\n",
        "    # Print predictions\n",
        "    print('--- Predictions ---')\n",
        "    print(pd.DataFrame().assign(Observation=observerations_path).assign(Prediction=state_path).assign(Delta=state_delta))\n",
        "    print()\n",
        "# Tell python to run main method\n",
        "if __name__ == \"__main__\": main()"
      ],
      "metadata": {
        "colab": {
          "base_uri": "https://localhost:8080/"
        },
        "id": "u8S8VaTTik2m",
        "outputId": "737399c4-0d90-49e9-d418-f6b3fae0be65"
      },
      "execution_count": null,
      "outputs": [
        {
          "output_type": "stream",
          "name": "stdout",
          "text": [
            "--- Hidden states ---\n",
            "Present    0.32\n",
            "Absent     0.68\n",
            "Name: states, dtype: float64\n",
            "\n",
            "--- Transition matrix for hidden states ---\n",
            "        Present Absent\n",
            "Present    0.75   0.25\n",
            "Absent     0.25   0.75\n",
            "\n",
            "Present    1.0\n",
            "Absent     1.0\n",
            "dtype: float64\n",
            "\n",
            "--- Sensor matrix ---\n",
            "        BoringClass InterestingClass\n",
            "Present         0.1              0.9\n",
            "Absent          0.8              0.2\n",
            "\n",
            "Present    1.0\n",
            "Absent     1.0\n",
            "dtype: float64\n",
            "\n",
            "--- Hidden edges ---\n",
            "{('Absent', 'Absent'): 0.75,\n",
            " ('Absent', 'Present'): 0.25,\n",
            " ('Present', 'Absent'): 0.25,\n",
            " ('Present', 'Present'): 0.75}\n",
            "\n",
            "--- Sensor edges ---\n",
            "{('Absent', 'BoringClass'): 0.8,\n",
            " ('Absent', 'InterestingClass'): 0.2,\n",
            " ('Present', 'BoringClass'): 0.1,\n",
            " ('Present', 'InterestingClass'): 0.9}\n",
            "\n",
            "--- Predictions ---\n",
            "        Observation Prediction     Delta\n",
            "0  InterestingClass    Present  0.288000\n",
            "1  InterestingClass    Present  0.194400\n",
            "2  InterestingClass    Present  0.131220\n",
            "3       BoringClass    Present  0.026244\n",
            "4  InterestingClass    Present  0.006643\n",
            "5  InterestingClass    Present  0.004484\n",
            "6  InterestingClass    Present  0.003027\n",
            "7       BoringClass     Absent  0.000605\n",
            "8       BoringClass     Absent  0.000363\n",
            "9       BoringClass     Absent  0.000218\n",
            "\n"
          ]
        }
      ]
    },
    {
      "cell_type": "markdown",
      "source": [
        "### **Rainy/Sunny Predictor**"
      ],
      "metadata": {
        "id": "vYIiDbNS-7HY"
      }
    },
    {
      "cell_type": "code",
      "source": [
        "!pip install pomegranate"
      ],
      "metadata": {
        "colab": {
          "base_uri": "https://localhost:8080/"
        },
        "id": "3zSfX3Rk_dWK",
        "outputId": "88907a54-52a2-49eb-8820-267679acdffc"
      },
      "execution_count": null,
      "outputs": [
        {
          "output_type": "stream",
          "name": "stdout",
          "text": [
            "Looking in indexes: https://pypi.org/simple, https://us-python.pkg.dev/colab-wheels/public/simple/\n",
            "Collecting pomegranate\n",
            "  Downloading pomegranate-0.14.8.tar.gz (4.3 MB)\n",
            "\u001b[K     |████████████████████████████████| 4.3 MB 4.2 MB/s \n",
            "\u001b[?25h  Installing build dependencies ... \u001b[?25l\u001b[?25hdone\n",
            "  Getting requirements to build wheel ... \u001b[?25l\u001b[?25hdone\n",
            "    Preparing wheel metadata ... \u001b[?25l\u001b[?25hdone\n",
            "Requirement already satisfied: pyyaml in /usr/local/lib/python3.7/dist-packages (from pomegranate) (3.13)\n",
            "Requirement already satisfied: joblib>=0.9.0b4 in /usr/local/lib/python3.7/dist-packages (from pomegranate) (1.1.0)\n",
            "Requirement already satisfied: networkx>=2.4 in /usr/local/lib/python3.7/dist-packages (from pomegranate) (2.6.3)\n",
            "Requirement already satisfied: numpy>=1.20.0 in /usr/local/lib/python3.7/dist-packages (from pomegranate) (1.21.6)\n",
            "Requirement already satisfied: scipy>=0.17.0 in /usr/local/lib/python3.7/dist-packages (from pomegranate) (1.7.3)\n",
            "Building wheels for collected packages: pomegranate\n",
            "  Building wheel for pomegranate (PEP 517) ... \u001b[?25l\u001b[?25hdone\n",
            "  Created wheel for pomegranate: filename=pomegranate-0.14.8-cp37-cp37m-linux_x86_64.whl size=15066188 sha256=b4714256bb35b961e7ec3a82e42a1b606e869b55414a720cbab285b7244af6be\n",
            "  Stored in directory: /root/.cache/pip/wheels/24/68/69/0eaab474ef1d65abedcd47de8a38ab21d221d329954d7edd24\n",
            "Successfully built pomegranate\n",
            "Installing collected packages: pomegranate\n",
            "Successfully installed pomegranate-0.14.8\n"
          ]
        }
      ]
    },
    {
      "cell_type": "code",
      "source": [
        "from pomegranate import *\n",
        "import random\n",
        "import math\n",
        "\n",
        "random.seed(0)\n",
        "\n",
        "model = HiddenMarkovModel( name=\"Rainy-Sunny\" )\n",
        "\n",
        "rainy = State( DiscreteDistribution({ 'walk': 0.1, 'shop': 0.4, 'clean': 0.5 }), name='Rainy' )\n",
        "sunny = State( DiscreteDistribution({ 'walk': 0.6, 'shop': 0.3, 'clean': 0.1 }), name='Sunny' )\n",
        "\n",
        "model.add_transition( model.start, rainy, 0.6 )\n",
        "model.add_transition( model.start, sunny, 0.4 )\n",
        "\n",
        "model.add_transition( rainy, rainy, 0.65 )\n",
        "model.add_transition( rainy, sunny, 0.25 )\n",
        "model.add_transition( sunny, rainy, 0.35 )\n",
        "model.add_transition( sunny, sunny, 0.55 )\n",
        "\n",
        "model.add_transition( rainy, model.end, 0.1 )\n",
        "model.add_transition( sunny, model.end, 0.1 )\n",
        "\n",
        "model.bake( verbose=True )\n",
        "sequence = [ 'walk', 'shop', 'clean', 'clean', 'clean', 'walk', 'clean' ]\n",
        "print(math.e**model.forward( sequence )[ len(sequence), model.end_index ])\n",
        "print(math.e**model.forward_backward( sequence )[1][ 2, model.states.index( rainy ) ])"
      ],
      "metadata": {
        "colab": {
          "base_uri": "https://localhost:8080/"
        },
        "id": "caJdLUwM_Iz8",
        "outputId": "545acb79-6e73-4eb2-af6a-639f48d5f3ac"
      },
      "execution_count": null,
      "outputs": [
        {
          "output_type": "stream",
          "name": "stdout",
          "text": [
            "1.854526990800002e-05\n",
            "0.9120990704186626\n"
          ]
        }
      ]
    },
    {
      "cell_type": "code",
      "source": [
        "print(math.e**model.backward( sequence )[ 3, model.states.index( sunny ) ])\n",
        "print(\" \".join( state.name for i, state in model.maximum_a_posteriori( sequence )[1] ))"
      ],
      "metadata": {
        "colab": {
          "base_uri": "https://localhost:8080/"
        },
        "id": "Pll8JmMEBRMM",
        "outputId": "8f7915cc-4c58-4312-e19f-f5021af3fbd7"
      },
      "execution_count": null,
      "outputs": [
        {
          "output_type": "stream",
          "name": "stdout",
          "text": [
            "0.0004459435000000002\n",
            "Sunny Rainy Rainy Rainy Rainy Sunny Rainy\n"
          ]
        }
      ]
    }
  ]
}